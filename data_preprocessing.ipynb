{
 "cells": [
  {
   "cell_type": "code",
   "execution_count": 1,
   "id": "3d282dbb",
   "metadata": {},
   "outputs": [],
   "source": [
    "# Import libs \n",
    "import pandas as pd"
   ]
  },
  {
   "cell_type": "code",
   "execution_count": 2,
   "id": "92bd27d5",
   "metadata": {},
   "outputs": [],
   "source": [
    "# Read csv \n",
    "df = pd.read_csv(\"./listings4.csv\")"
   ]
  },
  {
   "cell_type": "code",
   "execution_count": 21,
   "id": "d1e41540",
   "metadata": {},
   "outputs": [
    {
     "name": "stdout",
     "output_type": "stream",
     "text": [
      "<class 'pandas.core.frame.DataFrame'>\n",
      "RangeIndex: 9138 entries, 0 to 9137\n",
      "Data columns (total 8 columns):\n",
      " #   Column      Non-Null Count  Dtype  \n",
      "---  ------      --------------  -----  \n",
      " 0   State       9138 non-null   object \n",
      " 1   Name        9136 non-null   object \n",
      " 2   Address     9136 non-null   object \n",
      " 3   Price       9133 non-null   object \n",
      " 4   Bed Info    9133 non-null   object \n",
      " 5   Phone       7508 non-null   float64\n",
      " 6   low_price   9133 non-null   object \n",
      " 7   high_price  9133 non-null   object \n",
      "dtypes: float64(1), object(7)\n",
      "memory usage: 571.3+ KB\n"
     ]
    }
   ],
   "source": [
    "df.info()"
   ]
  },
  {
   "cell_type": "code",
   "execution_count": 20,
   "id": "2b490a15",
   "metadata": {},
   "outputs": [
    {
     "data": {
      "text/html": [
       "<div>\n",
       "<style scoped>\n",
       "    .dataframe tbody tr th:only-of-type {\n",
       "        vertical-align: middle;\n",
       "    }\n",
       "\n",
       "    .dataframe tbody tr th {\n",
       "        vertical-align: top;\n",
       "    }\n",
       "\n",
       "    .dataframe thead th {\n",
       "        text-align: right;\n",
       "    }\n",
       "</style>\n",
       "<table border=\"1\" class=\"dataframe\">\n",
       "  <thead>\n",
       "    <tr style=\"text-align: right;\">\n",
       "      <th></th>\n",
       "      <th>State</th>\n",
       "      <th>Name</th>\n",
       "      <th>Address</th>\n",
       "      <th>Price</th>\n",
       "      <th>Bed Info</th>\n",
       "      <th>Phone</th>\n",
       "      <th>low_price</th>\n",
       "      <th>high_price</th>\n",
       "    </tr>\n",
       "  </thead>\n",
       "  <tbody>\n",
       "    <tr>\n",
       "      <th>0</th>\n",
       "      <td>Alabama</td>\n",
       "      <td>4 Parkwood Villas Ct, Lehigh Acres, FL 33936</td>\n",
       "      <td>4 Parkwood Villas Ct, Lehigh Acres, FL 33936</td>\n",
       "      <td>1600</td>\n",
       "      <td>2 Beds, 2 Baths, 956 sq ft</td>\n",
       "      <td>2.395392e+09</td>\n",
       "      <td>1600</td>\n",
       "      <td>1600</td>\n",
       "    </tr>\n",
       "    <tr>\n",
       "      <th>1</th>\n",
       "      <td>Alabama</td>\n",
       "      <td>3306 8th St W, Lehigh Acres, FL 33971</td>\n",
       "      <td>3306 8th St W, Lehigh Acres, FL 33971</td>\n",
       "      <td>1925</td>\n",
       "      <td>3 Beds, 2 Baths, 1,700 sq ft</td>\n",
       "      <td>3.014338e+09</td>\n",
       "      <td>1925</td>\n",
       "      <td>1925</td>\n",
       "    </tr>\n",
       "    <tr>\n",
       "      <th>2</th>\n",
       "      <td>Alabama</td>\n",
       "      <td>2917 48th St SW, Lehigh Acres, FL 33976</td>\n",
       "      <td>2917 48th St SW, Lehigh Acres, FL 33976</td>\n",
       "      <td>2500</td>\n",
       "      <td>4 Beds, 3 Baths, 2,300 sq ft</td>\n",
       "      <td>2.057048e+09</td>\n",
       "      <td>2500</td>\n",
       "      <td>2500</td>\n",
       "    </tr>\n",
       "    <tr>\n",
       "      <th>3</th>\n",
       "      <td>Alabama</td>\n",
       "      <td>3014 30th St SW, Lehigh Acres, FL 33976</td>\n",
       "      <td>3014 30th St SW, Lehigh Acres, FL 33976</td>\n",
       "      <td>1800</td>\n",
       "      <td>3 Beds, 2 Baths, 1,495 sq ft</td>\n",
       "      <td>9.412025e+09</td>\n",
       "      <td>1800</td>\n",
       "      <td>1800</td>\n",
       "    </tr>\n",
       "    <tr>\n",
       "      <th>4</th>\n",
       "      <td>Alabama</td>\n",
       "      <td>2812 4th St SW, Lehigh Acres, FL 33976</td>\n",
       "      <td>2812 4th St SW, Lehigh Acres, FL 33976</td>\n",
       "      <td>2245</td>\n",
       "      <td>3 Beds, 2 Baths, 1,751 sq ft</td>\n",
       "      <td>2.393602e+09</td>\n",
       "      <td>2245</td>\n",
       "      <td>2245</td>\n",
       "    </tr>\n",
       "  </tbody>\n",
       "</table>\n",
       "</div>"
      ],
      "text/plain": [
       "     State                                          Name  \\\n",
       "0  Alabama  4 Parkwood Villas Ct, Lehigh Acres, FL 33936   \n",
       "1  Alabama         3306 8th St W, Lehigh Acres, FL 33971   \n",
       "2  Alabama       2917 48th St SW, Lehigh Acres, FL 33976   \n",
       "3  Alabama       3014 30th St SW, Lehigh Acres, FL 33976   \n",
       "4  Alabama        2812 4th St SW, Lehigh Acres, FL 33976   \n",
       "\n",
       "                                        Address Price  \\\n",
       "0  4 Parkwood Villas Ct, Lehigh Acres, FL 33936  1600   \n",
       "1         3306 8th St W, Lehigh Acres, FL 33971  1925   \n",
       "2       2917 48th St SW, Lehigh Acres, FL 33976  2500   \n",
       "3       3014 30th St SW, Lehigh Acres, FL 33976  1800   \n",
       "4        2812 4th St SW, Lehigh Acres, FL 33976  2245   \n",
       "\n",
       "                       Bed Info         Phone low_price high_price  \n",
       "0    2 Beds, 2 Baths, 956 sq ft  2.395392e+09      1600       1600  \n",
       "1  3 Beds, 2 Baths, 1,700 sq ft  3.014338e+09      1925       1925  \n",
       "2  4 Beds, 3 Baths, 2,300 sq ft  2.057048e+09      2500       2500  \n",
       "3  3 Beds, 2 Baths, 1,495 sq ft  9.412025e+09      1800       1800  \n",
       "4  3 Beds, 2 Baths, 1,751 sq ft  2.393602e+09      2245       2245  "
      ]
     },
     "execution_count": 20,
     "metadata": {},
     "output_type": "execute_result"
    }
   ],
   "source": [
    "df.head()"
   ]
  },
  {
   "cell_type": "code",
   "execution_count": 7,
   "id": "1f328ab3",
   "metadata": {},
   "outputs": [],
   "source": [
    "df['Price'] = df['Price'].str.replace('$', '', regex=False)"
   ]
  },
  {
   "cell_type": "code",
   "execution_count": 13,
   "id": "716ed647",
   "metadata": {},
   "outputs": [],
   "source": [
    "df['Price'] = df['Price'].str.replace(',', '', regex=False)"
   ]
  },
  {
   "cell_type": "code",
   "execution_count": 16,
   "id": "47072f7c",
   "metadata": {},
   "outputs": [
    {
     "data": {
      "text/plain": [
       "array(['1600', '1925', '2500', ..., '1325 - 1370', '1235 - 2030',\n",
       "       '1197 - 1700'], dtype=object)"
      ]
     },
     "execution_count": 16,
     "metadata": {},
     "output_type": "execute_result"
    }
   ],
   "source": [
    "df['Price'].unique()"
   ]
  },
  {
   "cell_type": "code",
   "execution_count": 18,
   "id": "4ebdb806",
   "metadata": {},
   "outputs": [],
   "source": [
    "# Split the price column by the delimiter (assuming a hyphen '-')\n",
    "split_prices = df['Price'].str.split('-', expand=True)\n",
    "\n",
    "# Create the low_price column using the first element of the split\n",
    "df['low_price'] = split_prices[0]\n",
    "\n",
    "# Create the high_price column. Use the second element, but if it's missing, use the first element\n",
    "df['high_price'] = split_prices[1].fillna(split_prices[0])"
   ]
  },
  {
   "cell_type": "code",
   "execution_count": 22,
   "id": "8e4fe8a0",
   "metadata": {},
   "outputs": [],
   "source": [
    "df['low_price'] = pd.to_numeric(df['low_price'], errors='coerce').fillna(0).astype(int)"
   ]
  },
  {
   "cell_type": "code",
   "execution_count": 23,
   "id": "ac54d383",
   "metadata": {},
   "outputs": [],
   "source": [
    "df['high_price'] = pd.to_numeric(df['high_price'], errors='coerce').fillna(0).astype(int)"
   ]
  },
  {
   "cell_type": "code",
   "execution_count": 24,
   "id": "6e281d25",
   "metadata": {},
   "outputs": [],
   "source": [
    "df.to_csv('rents.csv', index=False)"
   ]
  }
 ],
 "metadata": {
  "kernelspec": {
   "display_name": "Python 3",
   "language": "python",
   "name": "python3"
  },
  "language_info": {
   "codemirror_mode": {
    "name": "ipython",
    "version": 3
   },
   "file_extension": ".py",
   "mimetype": "text/x-python",
   "name": "python",
   "nbconvert_exporter": "python",
   "pygments_lexer": "ipython3",
   "version": "3.12.5"
  }
 },
 "nbformat": 4,
 "nbformat_minor": 5
}
